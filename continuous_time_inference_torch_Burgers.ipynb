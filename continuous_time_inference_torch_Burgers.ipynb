{
 "cells": [
  {
   "cell_type": "code",
   "execution_count": 9,
   "metadata": {},
   "outputs": [
    {
     "name": "stdout",
     "output_type": "stream",
     "text": [
      "cuda\n",
      "1.9.0\n"
     ]
    }
   ],
   "source": [
    "import torch\n",
    "import torch.nn as nn\n",
    "import torch.optim as optim\n",
    "\n",
    "import numpy as np\n",
    "from pyDOE import lhs\n",
    "from collections import OrderedDict\n",
    "import matplotlib.pylab as plt\n",
    "import matplotlib.gridspec as gridspec\n",
    "\n",
    "device = 'cuda' if torch.cuda.is_available() else 'cpu'\n",
    "print(device)\n",
    "print(torch.__version__)"
   ]
  },
  {
   "cell_type": "code",
   "execution_count": 2,
   "metadata": {},
   "outputs": [],
   "source": [
    "class DNN(nn.Module):\n",
    "    def __init__(self, layers):\n",
    "        super().__init__()\n",
    "\n",
    "        n_hidden = len(layers) \n",
    "        self.activation = nn.Tanh\n",
    "        layer_list = []\n",
    "\n",
    "        for i in range(n_hidden-2):\n",
    "\n",
    "            linear = torch.nn.Linear(layers[i], layers[i+1])\n",
    "\n",
    "            nn.init.xavier_normal_(linear.weight.data, gain=1.0)\n",
    "            nn.init.zeros_(linear.bias.data)\n",
    "\n",
    "            layer_list.append(\n",
    "                ('layer_%d' % i, linear)\n",
    "            )\n",
    "            layer_list.append(\n",
    "                ('activation_%d' % i, self.activation())\n",
    "            )\n",
    "        \n",
    "        linear = torch.nn.Linear(layers[n_hidden-2], layers[n_hidden-1])\n",
    "        nn.init.xavier_normal_(linear.weight.data, gain=1.0)\n",
    "        nn.init.zeros_(linear.bias.data)\n",
    "\n",
    "        layer_list.append(('layer_%d' % (n_hidden-2), linear))\n",
    "        \n",
    "        layerDict = OrderedDict(layer_list)\n",
    "        self.layers = torch.nn.Sequential(layerDict)\n",
    "\n",
    "    def forward(self, x):\n",
    "        out = self.layers(x)\n",
    "        return out"
   ]
  },
  {
   "cell_type": "code",
   "execution_count": 3,
   "metadata": {},
   "outputs": [],
   "source": [
    "class PINN_Burgers:\n",
    "    \n",
    "    def __init__(self, net, Xt_u, Y, Xt_f, lb, ub, device):\n",
    "        \n",
    "        # data\n",
    "        self.X_u = Xt_u[:,0:1]; self.t_u = Xt_u[:,1:2]\n",
    "        self.X_f = Xt_f[:,0:1]; self.t_f = Xt_f[:,1:2]\n",
    "\n",
    "        self.Y = torch.tensor(Y).float().to(device)\n",
    "        self.lb = torch.tensor(lb).float().to(device)\n",
    "        self.ub = torch.tensor(ub).float().to(device)\n",
    "\n",
    "        # net\n",
    "        self.net = net.to(device)\n",
    "\n",
    "        # opt: using both Adam and LBFGS\n",
    "        self.opt_LBFGS = optim.LBFGS(\n",
    "            self.net.parameters(), \n",
    "            lr=1., \n",
    "            max_iter=50000, \n",
    "            max_eval=50000, \n",
    "            history_size=50,\n",
    "            tolerance_grad=1e-5, \n",
    "            tolerance_change=1.0 * np.finfo(float).eps,\n",
    "            line_search_fn=\"strong_wolfe\"       # can be \"strong_wolfe\"\n",
    "        )\n",
    "        self.iter = 0\n",
    "        self.opt_Adam = optim.Adam(self.net.parameters(), lr=0.003)\n",
    "\n",
    "    def net_U(self, x, t):\n",
    "        xt = torch.cat((x,t), dim=1)\n",
    "        xt = 2*(xt-self.lb)/(self.ub-self.lb) - 1\n",
    "        u = self.net(xt)\n",
    "        return u\n",
    "\n",
    "    def net_F(self, x, t):\n",
    "        lambda_1 = 1        \n",
    "        lambda_2 = 0.01/np.pi\n",
    "\n",
    "        u = self.net_U(x, t)\n",
    "\n",
    "        u_t = torch.autograd.grad(u, t, torch.ones_like(u),\n",
    "                                    retain_graph=True,\n",
    "                                    create_graph=True)[0]\n",
    "        u_x = torch.autograd.grad(u, x, torch.ones_like(u), \n",
    "                                    retain_graph=True,\n",
    "                                    create_graph=True)[0]\n",
    "        u_xx = torch.autograd.grad(u_x, x, torch.ones_like(u_x),\n",
    "                                    retain_graph=True,\n",
    "                                    create_graph=True)[0]\n",
    "      \n",
    "        F = u_t + lambda_1*u*u_x - lambda_2*u_xx\n",
    "        \n",
    "        return F\n",
    "\n",
    "    def _train_step(self):\n",
    "        \n",
    "        X_u = torch.tensor(self.X_u, requires_grad=True).float().to(device)\n",
    "        t_u = torch.tensor(self.t_u, requires_grad=True).float().to(device)\n",
    "        X_f = torch.tensor(self.X_f, requires_grad=True).float().to(device)\n",
    "        t_f = torch.tensor(self.t_f, requires_grad=True).float().to(device)\n",
    "        \n",
    "        u_pred = self.net_U(X_u, t_u)\n",
    "        f_pred = self.net_F(X_f, t_f)\n",
    "        loss = torch.mean((self.Y-u_pred)**2) + torch.mean(f_pred**2)\n",
    "\n",
    "        return loss\n",
    "\n",
    "    def _closure(self):\n",
    "        loss = self._train_step()\n",
    "        self.opt_LBFGS.zero_grad()\n",
    "        loss.backward()\n",
    "\n",
    "        self.iter += 1\n",
    "        if self.iter % 200 == 0:\n",
    "            print('epoch: {}  loss: {:.3e}'.format(self.iter, \n",
    "                                                    loss.item()))\n",
    "        return loss\n",
    "\n",
    "    def train(self, epochs):\n",
    "        self.net.train() # training mode\n",
    "        for epoch in range(epochs):\n",
    "            \n",
    "            loss = self._train_step() \n",
    "            \n",
    "            self.opt_Adam.zero_grad()\n",
    "            loss.backward()\n",
    "            self.opt_Adam.step()\n",
    "\n",
    "            if (epoch+1) % 200 == 0:\n",
    "                print('epoch: {}  loss: {:.3e}'.format(epoch+1, \n",
    "                                                        loss.item()))\n",
    "        self.opt_LBFGS.step(self._closure)\n",
    "\n",
    "    def predict(self, x):\n",
    "        \n",
    "        x = torch.tensor(x, requires_grad=True).float().to(device)\n",
    "    \n",
    "        self.net.eval()\n",
    "       \n",
    "        u_pred = self.net_U(x[:,0:1], x[:,1:2])\n",
    "        \n",
    "        return u_pred.detach().cpu().numpy()\n",
    "        \n",
    "\n",
    "\n"
   ]
  },
  {
   "cell_type": "code",
   "execution_count": 4,
   "metadata": {},
   "outputs": [],
   "source": [
    "nu = 0.01/np.pi\n",
    "noise = 0.0        \n",
    "\n",
    "N_u = 100\n",
    "N_f = 10000\n",
    "layers = [2, 20, 20, 20, 20, 20, 20, 20, 20, 1]\n",
    "\n",
    "import scipy.io\n",
    "data = scipy.io.loadmat('./Data/burgers_shock.mat')\n",
    "\n",
    "t = data['t'].flatten()[:,None]\n",
    "x = data['x'].flatten()[:,None]\n",
    "Exact = np.real(data['usol']).T\n",
    "\n",
    "X, T = np.meshgrid(x,t)\n",
    "\n",
    "X_star = np.hstack((X.flatten()[:,None], T.flatten()[:,None]))\n",
    "u_star = Exact.flatten()[:,None]              \n",
    "\n",
    "# Doman bounds\n",
    "lb = X_star.min(0)\n",
    "ub = X_star.max(0)    \n",
    "\n",
    "# boundary\n",
    "xx1 = np.hstack((X[0:1,:].T, T[0:1,:].T))\n",
    "uu1 = Exact[0:1,:].T\n",
    "xx2 = np.hstack((X[:,0:1], T[:,0:1]))\n",
    "uu2 = Exact[:,0:1]\n",
    "xx3 = np.hstack((X[:,-1:], T[:,-1:]))\n",
    "uu3 = Exact[:,-1:]\n",
    "\n",
    "# collocation\n",
    "X_u_train = np.vstack([xx1, xx2, xx3])\n",
    "X_f_train = lb + (ub-lb)*lhs(2, N_f)\n",
    "X_f_train = np.vstack((X_f_train, X_u_train))\n",
    "u_train = np.vstack([uu1, uu2, uu3])\n",
    "\n",
    "# training data\n",
    "idx = np.random.choice(X_u_train.shape[0], N_u, replace=False)\n",
    "X_u_train = X_u_train[idx, :]\n",
    "u_train = u_train[idx,:]"
   ]
  },
  {
   "cell_type": "code",
   "execution_count": 5,
   "metadata": {},
   "outputs": [
    {
     "data": {
      "text/plain": [
       "DNN(\n",
       "  (layers): Sequential(\n",
       "    (layer_0): Linear(in_features=2, out_features=20, bias=True)\n",
       "    (activation_0): Tanh()\n",
       "    (layer_1): Linear(in_features=20, out_features=20, bias=True)\n",
       "    (activation_1): Tanh()\n",
       "    (layer_2): Linear(in_features=20, out_features=20, bias=True)\n",
       "    (activation_2): Tanh()\n",
       "    (layer_3): Linear(in_features=20, out_features=20, bias=True)\n",
       "    (activation_3): Tanh()\n",
       "    (layer_4): Linear(in_features=20, out_features=20, bias=True)\n",
       "    (activation_4): Tanh()\n",
       "    (layer_5): Linear(in_features=20, out_features=20, bias=True)\n",
       "    (activation_5): Tanh()\n",
       "    (layer_6): Linear(in_features=20, out_features=20, bias=True)\n",
       "    (activation_6): Tanh()\n",
       "    (layer_7): Linear(in_features=20, out_features=20, bias=True)\n",
       "    (activation_7): Tanh()\n",
       "    (layer_8): Linear(in_features=20, out_features=1, bias=True)\n",
       "  )\n",
       ")"
      ]
     },
     "execution_count": 5,
     "metadata": {},
     "output_type": "execute_result"
    }
   ],
   "source": [
    "net = DNN(layers)\n",
    "net"
   ]
  },
  {
   "cell_type": "code",
   "execution_count": 6,
   "metadata": {},
   "outputs": [
    {
     "name": "stdout",
     "output_type": "stream",
     "text": [
      "epoch: 200  loss: 2.250e-02\n",
      "epoch: 400  loss: 1.810e-03\n",
      "epoch: 600  loss: 4.963e-04\n",
      "epoch: 800  loss: 2.798e-04\n",
      "epoch: 1000  loss: 1.552e-04\n",
      "epoch: 1200  loss: 8.460e-05\n",
      "epoch: 1400  loss: 4.929e-05\n",
      "epoch: 1600  loss: 3.519e-05\n",
      "epoch: 1800  loss: 2.631e-05\n",
      "epoch: 2000  loss: 2.039e-05\n",
      "epoch: 2200  loss: 1.709e-05\n",
      "epoch: 2400  loss: 1.322e-05\n",
      "epoch: 2600  loss: 1.105e-05\n",
      "epoch: 2800  loss: 8.998e-06\n",
      "epoch: 3000  loss: 7.931e-06\n",
      "epoch: 3200  loss: 6.905e-06\n",
      "epoch: 3400  loss: 5.954e-06\n",
      "epoch: 3600  loss: 5.033e-06\n",
      "epoch: 3800  loss: 4.432e-06\n",
      "epoch: 4000  loss: 3.947e-06\n",
      "epoch: 4200  loss: 3.561e-06\n",
      "epoch: 4400  loss: 3.183e-06\n",
      "epoch: 4600  loss: 2.765e-06\n",
      "epoch: 4800  loss: 2.517e-06\n"
     ]
    }
   ],
   "source": [
    "pinn = PINN_Burgers(net, X_u_train, u_train, X_f_train, lb, ub, device)\n",
    "pinn.train(0)"
   ]
  },
  {
   "cell_type": "code",
   "execution_count": 7,
   "metadata": {},
   "outputs": [
    {
     "name": "stdout",
     "output_type": "stream",
     "text": [
      "Error u: 1.036116e-03\n"
     ]
    }
   ],
   "source": [
    "u_pred = pinn.predict(X_star)\n",
    "error_u = np.linalg.norm(u_star-u_pred,2)/np.linalg.norm(u_star,2)\n",
    "print('Error u: %e' % (error_u))"
   ]
  },
  {
   "cell_type": "code",
   "execution_count": 10,
   "metadata": {},
   "outputs": [
    {
     "data": {
      "text/plain": [
       "Text(0.5, 1.0, '$t = 0.75$')"
      ]
     },
     "execution_count": 10,
     "metadata": {},
     "output_type": "execute_result"
    },
    {
     "data": {
      "image/png": "[encoded data removed]",
      "text/plain": [
       "<Figure size 1080x288 with 3 Axes>"
      ]
     },
     "metadata": {
      "needs_background": "light"
     },
     "output_type": "display_data"
    }
   ],
   "source": [
    "# testing data at t = 0.25, 0.5, 0.75\n",
    "X_u_test_25 = np.hstack([x, 0.25*np.ones_like((x))]); u_test_25 = Exact[25]\n",
    "X_u_test_50 = np.hstack([x, 0.50*np.ones_like((x))]); u_test_50 = Exact[50]\n",
    "X_u_test_75 = np.hstack([x, 0.75*np.ones_like((x))]); u_test_75 = Exact[75]\n",
    "\n",
    "u_pred_25 = pinn.predict(X_u_test_25)\n",
    "u_pred_50 = pinn.predict(X_u_test_50)\n",
    "u_pred_75 = pinn.predict(X_u_test_75)\n",
    "\n",
    "fig = plt.figure(figsize=(15,4))\n",
    "gs1 = gridspec.GridSpec(1, 3)\n",
    "gs1.update(top=1-1/3, bottom=0, left=0.1, right=0.9, wspace=0.5)\n",
    "\n",
    "ax = plt.subplot(gs1[0, 0])\n",
    "ax.plot(x,Exact[25,:], 'b-', linewidth = 2, label = 'Exact')       \n",
    "ax.plot(x,u_pred_25, 'r--', linewidth = 2, label = 'Prediction')\n",
    "ax.set_xlabel('$x$')\n",
    "ax.set_ylabel('$u(t,x)$')    \n",
    "ax.set_title('$t = 0.25$', fontsize = 10)\n",
    "ax.axis('square')\n",
    "ax.set_xlim([-1.1,1.1])\n",
    "ax.set_ylim([-1.1,1.1])\n",
    "\n",
    "ax = plt.subplot(gs1[0, 1])\n",
    "ax.plot(x,Exact[50,:], 'b-', linewidth = 2, label = 'Exact')       \n",
    "ax.plot(x,u_pred_50, 'r--', linewidth = 2, label = 'Prediction')\n",
    "ax.set_xlabel('$x$')\n",
    "ax.set_ylabel('$u(t,x)$')\n",
    "ax.axis('square')\n",
    "ax.set_xlim([-1.1,1.1])\n",
    "ax.set_ylim([-1.1,1.1])\n",
    "ax.set_title('$t = 0.50$', fontsize = 10)\n",
    "ax.legend(loc='upper center', bbox_to_anchor=(0.5, -0.35), ncol=5, frameon=False)\n",
    "\n",
    "ax = plt.subplot(gs1[0, 2])\n",
    "ax.plot(x,Exact[75,:], 'b-', linewidth = 2, label = 'Exact')       \n",
    "ax.plot(x,u_pred_75, 'r--', linewidth = 2, label = 'Prediction')\n",
    "ax.set_xlabel('$x$')\n",
    "ax.set_ylabel('$u(t,x)$')\n",
    "ax.axis('square')\n",
    "ax.set_xlim([-1.1,1.1])\n",
    "ax.set_ylim([-1.1,1.1])    \n",
    "ax.set_title('$t = 0.75$', fontsize = 10)"
   ]
  },
  {
   "cell_type": "code",
   "execution_count": null,
   "metadata": {},
   "outputs": [],
   "source": []
  }
 ],
 "metadata": {
  "interpreter": {
   "hash": "7da8996b589cae10f97cae41b535d77de613bae3d7d99308f0bcdae056be107b"
  },
  "kernelspec": {
   "display_name": "Python 3.6.13 ('pytorch')",
   "language": "python",
   "name": "python3"
  },
  "language_info": {
   "codemirror_mode": {
    "name": "ipython",
    "version": 3
   },
   "file_extension": ".py",
   "mimetype": "text/x-python",
   "name": "python",
   "nbconvert_exporter": "python",
   "pygments_lexer": "ipython3",
   "version": "3.6.13"
  },
  "orig_nbformat": 4
 },
 "nbformat": 4,
 "nbformat_minor": 2
}
